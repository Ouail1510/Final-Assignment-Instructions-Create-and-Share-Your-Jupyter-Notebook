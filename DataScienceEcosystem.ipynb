{
 "cells": [
  {
   "cell_type": "markdown",
   "id": "f3c39347-8a02-438e-ad48-008fe0ed0ba8",
   "metadata": {},
   "source": [
    "# Data Science Ecosystems"
   ]
  },
  {
   "cell_type": "markdown",
   "id": "1c391cee-33a6-40e9-a109-5b7563f1d77a",
   "metadata": {},
   "source": [
    "In this notebook, Data Science Tools and Ecosystem are summarized.\n",
    "\n"
   ]
  },
  {
   "cell_type": "markdown",
   "id": "ea507ed6-8d1f-4183-b689-301059fe3710",
   "metadata": {},
   "source": [
    "__Objectives:__ \n",
    "- List popular languages that Data Scientists use.\n",
    "- List commonly used libraries used by Data Scientists.\n",
    "- List data science tools.\n",
    "- Examples of evaluating arithmetic expressions in Python.\n",
    "- Create a code cell to multiply and add numbers.\n",
    "- Create a code cell to convert minutes to hours."
   ]
  },
  {
   "cell_type": "markdown",
   "id": "a54bef6a-3af5-4692-b6a5-696dc086853e",
   "metadata": {},
   "source": [
    "Some of the popular languages that Data Scientists use are:\n",
    "1. Python\n",
    "2. R\n",
    "3. Java\n",
    "4. Scala\n",
    "5. SQL\n",
    "6. Julia\n",
    "7. C/C++"
   ]
  },
  {
   "cell_type": "markdown",
   "id": "2cb02c0e-446a-4519-a6c7-1c0d967cc239",
   "metadata": {},
   "source": [
    "Some of the commonly used libraries used by Data Scientists include:\n",
    "\n",
    "1. Numpy\n",
    "2. Pandas\n",
    "3. Matplotlib\n",
    "4. Scikit-learn\n",
    "5. TensorFlow\n",
    "6. SciPy"
   ]
  },
  {
   "cell_type": "markdown",
   "id": "92801ba8-915d-49df-a64d-cc9a63efa683",
   "metadata": {},
   "source": [
    "| Data Science Tools |\n",
    "| :-: |\n",
    "| Jupyter Notebook |\n",
    "| Git and Github |\n",
    "| RStudio IDE |"
   ]
  },
  {
   "cell_type": "markdown",
   "id": "ef1b47d9-aec2-47f5-8577-46edca6099c4",
   "metadata": {},
   "source": [
    "### Below are a few examples of evaluating arithmetic expressions in Python.\n",
    "\n",
    "- result = 5+5 Addition\n",
    "- result = 5-5 Substraction\n",
    "- result = 5*5 Multipication\n",
    "- result = 5/5 Division"
   ]
  },
  {
   "cell_type": "code",
   "execution_count": 8,
   "id": "edc9311e-f765-46fd-9ab3-9eb29db119fa",
   "metadata": {},
   "outputs": [
    {
     "data": {
      "text/plain": [
       "17"
      ]
     },
     "execution_count": 8,
     "metadata": {},
     "output_type": "execute_result"
    }
   ],
   "source": [
    "#This a simple arithmetic expression to mutiply then add integers\n",
    "(3*4)+5"
   ]
  },
  {
   "cell_type": "code",
   "execution_count": 9,
   "id": "6945a7d7-fefd-4fdb-b559-a7d23098ef85",
   "metadata": {},
   "outputs": [
    {
     "data": {
      "text/plain": [
       "3.3333333333333335"
      ]
     },
     "execution_count": 9,
     "metadata": {},
     "output_type": "execute_result"
    }
   ],
   "source": [
    "#This will convert 200 minutes to hours by diving by 60\n",
    "200/60"
   ]
  },
  {
   "cell_type": "markdown",
   "id": "098c60a7-2add-46d5-9b19-803d17262a91",
   "metadata": {},
   "source": [
    "## Author:\n",
    "Ouail Selkti Selkti"
   ]
  }
 ],
 "metadata": {
  "kernelspec": {
   "display_name": "Python 3 (ipykernel)",
   "language": "python",
   "name": "python3"
  },
  "language_info": {
   "codemirror_mode": {
    "name": "ipython",
    "version": 3
   },
   "file_extension": ".py",
   "mimetype": "text/x-python",
   "name": "python",
   "nbconvert_exporter": "python",
   "pygments_lexer": "ipython3",
   "version": "3.13.5"
  }
 },
 "nbformat": 4,
 "nbformat_minor": 5
}
